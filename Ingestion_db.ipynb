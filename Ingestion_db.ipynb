{
 "cells": [
  {
   "cell_type": "markdown",
   "id": "0cc3314e-7b2f-4c87-8713-ac6e690dd6ca",
   "metadata": {},
   "source": [
    "## Ingestion Script (Ingestion_db)"
   ]
  },
  {
   "cell_type": "code",
   "execution_count": 1,
   "id": "2b4a02a9-a949-4037-bedf-1dec780ab90d",
   "metadata": {},
   "outputs": [],
   "source": [
    "import pandas as pd\n",
    "import os\n",
    "from sqlalchemy import create_engine\n",
    "import logging\n",
    "import time\n",
    "\n",
    "# Correct indentation and logger setup\n",
    "logger = logging.getLogger(\"ingest_db\")\n",
    "logger.setLevel(logging.DEBUG)\n",
    "\n",
    "file_handler = logging.FileHandler(\"logs/ingestion_db.log\", mode=\"a\")\n",
    "formatter = logging.Formatter(\"%(asctime)s - %(levelname)s - %(message)s\")\n",
    "file_handler.setFormatter(formatter)\n",
    "\n",
    "if not logger.hasHandlers():\n",
    "    logger.addHandler(file_handler)\n",
    "\n",
    "# Create DB engine\n",
    "engine = create_engine('sqlite:///inventory.db')\n",
    "\n",
    "def ingest_db(df, table_name, engine):\n",
    "    '''This function will ingest the dataframe into database table'''\n",
    "    df.to_sql(table_name, con=engine, if_exists='replace', index=False)\n",
    "\n",
    "def row_data_load():\n",
    "    '''This function will load the CSVs as dataframe and ingest into db'''\n",
    "    start = time.time()\n",
    "    for files in os.listdir('data'):\n",
    "        if files.endswith('.csv'):\n",
    "            df = pd.read_csv(os.path.join('data', files))\n",
    "            logger.info(f'Ingesting {files} into DB')\n",
    "            ingest_db(df, files[:-4], engine)\n",
    "    end = time.time()\n",
    "    total_time = (end - start) / 60\n",
    "    logger.info('----------- Ingestion Completed -----------')\n",
    "    logger.info(f'Total Time Taken: {total_time:.2f} minutes')\n",
    "\n",
    "if __name__ == '__main__':\n",
    "    row_data_load()\n"
   ]
  },
  {
   "cell_type": "code",
   "execution_count": null,
   "id": "9b0caad0-9c77-4397-978f-d84422be616c",
   "metadata": {},
   "outputs": [],
   "source": []
  }
 ],
 "metadata": {
  "kernelspec": {
   "display_name": "base",
   "language": "python",
   "name": "python3"
  },
  "language_info": {
   "codemirror_mode": {
    "name": "ipython",
    "version": 3
   },
   "file_extension": ".py",
   "mimetype": "text/x-python",
   "name": "python",
   "nbconvert_exporter": "python",
   "pygments_lexer": "ipython3",
   "version": "3.12.7"
  }
 },
 "nbformat": 4,
 "nbformat_minor": 5
}
